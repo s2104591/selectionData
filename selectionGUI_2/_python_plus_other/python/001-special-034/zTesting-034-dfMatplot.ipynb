{
 "cells": [
  {
   "cell_type": "code",
   "execution_count": 5,
   "id": "2f5f7069-c25f-4280-98ce-9021dfbf4d7c",
   "metadata": {},
   "outputs": [
    {
     "name": "stdout",
     "output_type": "stream",
     "text": [
      "done, imports\n"
     ]
    }
   ],
   "source": [
    "import pandas as pd\n",
    "from Tools34_008 import *   \n",
    "import marianodoc as md\n",
    "\n",
    "\n",
    "#from a_toimport import *   \n",
    "#import helloworldbasic5message as rd\n",
    "#import MarianoDoc2 as md\n",
    "\n",
    "#import numpy as np\n",
    "\n",
    "print('done, imports')\n"
   ]
  },
  {
   "cell_type": "code",
   "execution_count": null,
   "id": "3e28affe-d13b-4c34-ac6b-07f9923d87d9",
   "metadata": {},
   "outputs": [],
   "source": [
    "# step 1 of 1 here"
   ]
  },
  {
   "cell_type": "code",
   "execution_count": 3,
   "id": "b555b18f-78c5-4b27-83a7-29e691f593c5",
   "metadata": {},
   "outputs": [],
   "source": [
    "#help(md)"
   ]
  },
  {
   "cell_type": "code",
   "execution_count": 6,
   "id": "18a7c967-9792-41ca-95a9-cc21903030c5",
   "metadata": {
    "tags": []
   },
   "outputs": [
    {
     "name": "stdout",
     "output_type": "stream",
     "text": [
      "next\n"
     ]
    }
   ],
   "source": [
    "\n",
    "def JupyterLoop():\n",
    "    \n",
    "    print(\"Jupyter Loop Start\")\n",
    "    \n",
    "    \n",
    "    raindoc = md.new_doc()\n",
    "    \n",
    "    focus,minHR1,minHR2,mincount,minHPC,minCh,minavg=\"5-H\",106,90,4,90,90,102\n",
    "    focus,minHR1,minHR2,mincount,minHPC,minCh,minavg=\"5-H\",0,0,0,0,0,102\n",
    "    minmin,minmed=0,0\n",
    "    \n",
    "    listlimit=20\n",
    "    raindoc.clear_lines()\n",
    "\n",
    "    cont=True\n",
    "    while cont:\n",
    "        #focus=getstr(\"focus\",  focus)\n",
    "        minHR1=getnumber('minhr1',minHR1)\n",
    "        minHR2=getnumber('minhr2',minHR2)\n",
    "        \n",
    "        \n",
    "        minHPC=getnumber(\"min HPC\",minHPC)\n",
    "        minCh=getnumber(\"min Change\",minCh)\n",
    "        \n",
    "        \n",
    "        mincount=getint('mincount',mincount)\n",
    "        listlimit=getint('listlimit',listlimit)\n",
    "        \n",
    "        minavg=getnumber(\"Min Avg\",minavg)\n",
    "        minmin=getnumber(\"Min Min\",minmin)\n",
    "        minmed=getnumber(\"Min Median\",minmed)\n",
    "        \n",
    "        \n",
    "        sortby=input(\"enter sort by\")\n",
    "       \n",
    "\n",
    "        duplicates=program34(minHR1,minHR2,minHPC,minCh,mincount,raindoc,\\\n",
    "                             listlimit,True,minavg,sort=sortby,\\\n",
    "                             minmin=minmin,minmed=minmed)\n",
    "        print(\"duplicates here=\",duplicates)\n",
    "        \n",
    "        cont=getyesno(\"repeat ?\",True)\n",
    "        pass\n",
    "\n",
    "    print(\"finished loop, continue=\",cont)\n",
    "    \n",
    "\n",
    "def testF():\n",
    "    return 1\n",
    "\n",
    "    \n",
    "\n",
    "\n",
    "print(\"next\")\n"
   ]
  },
  {
   "cell_type": "markdown",
   "id": "9b40c9cd-cdfe-4292-a0db-42dd442b1318",
   "metadata": {},
   "source": [
    "## 1 of 1 JupyterLoop"
   ]
  },
  {
   "cell_type": "code",
   "execution_count": 7,
   "id": "36c8c73c-e996-4766-a5ba-d8c95ce8243f",
   "metadata": {},
   "outputs": [
    {
     "name": "stdout",
     "output_type": "stream",
     "text": [
      "here\n",
      "Jupyter Loop Start\n"
     ]
    },
    {
     "name": "stdin",
     "output_type": "stream",
     "text": [
      "minhr1 default=0 >>   \n",
      "minhr2 default=0 >>   \n",
      "min HPC default=0 >>   \n",
      "min Change default=0 >>   \n",
      "mincount default=0 >>   \n",
      "listlimit default=20 >>   \n",
      "Min Avg default=102 >>   \n",
      "Min Min default=0 >>   \n",
      "Min Median default=0 >>   \n",
      "enter sort by \n"
     ]
    },
    {
     "name": "stdout",
     "output_type": "stream",
     "text": [
      "\n",
      "minhr1=0 minhr2=0 minhpc=0 minCh=0\n",
      "\n",
      "minavg= 102\n",
      "step 1 done, ** length= 7067\n",
      "\n",
      "items\n",
      "PWSC,RVMD,LOGI,NVCR,WMG,CPRX,SCHW,FNA,,\n",
      "CAG,XYL,FLO,NEM,TOL,HIBB,CPB,ALE,,\n",
      "WRB,AZTA,TT,REPL,CROX,RUN,SJM,V,,\n",
      "BGNE,ARTNA,NSC,NFBK,ARRY,MRNA,CLBK,ZLAB,,\n",
      "AXSM,T,DAWN,NLY,NEE,SRPT,CHD,WWE,,\n",
      "HMN,TH,SXT,CSX,ITOS,CL,EBIX,AKRO,,\n",
      "TRMD,ETNB,FN,AVA,INMD,RARE,NOVA,AA,,\n",
      "BRP,CACI,OGN,MDRX,SBAC,MTRN,FLNC,INST,,\n",
      "KDNY,IMKTA,TTMI,MED,AZZ,MDGL,OFIX,PODD,,\n",
      "SNX,RYTM,CBU,BOH,UNP,RETA,ALHC,HSY,,\n",
      "PG,IVZ,TFC,HZO,WEN,CRAI,IDYA,CNC,,\n",
      "ARWR,UAL,TSN,APPF,GOOD,TECH,ALL,ADTN,,\n",
      "URBN,SHLS,MMM,FARO,THS,BOC,TTEC,LEGN,,\n",
      "CELH,CPF,CALM,SNEX,RGNX,\n",
      "\n",
      "start\n",
      "PWSC-__\t ->4__\t109.48\t109.43\t107.79\t hereJan15\tPWSC-800$\n",
      "RVMD-__\t ->23_\t108.29\t107.92\t92.48\t hereJan15\tRVMD-700$\n",
      "LOGI-__\t ->12_\t108.22\t106.49\t100.69\t hereJan15\tLOGI-700$\n",
      "NVCR-__\t ->47_\t107.88\t101.83\t86.20\t hereJan15\tNVCR-700$\n",
      "WMG-___\t ->9__\t107.62\t107.50\t103.25\t hereJan15\tWMG-700$\n",
      "CPRX-__\t ->18_\t107.58\t108.33\t100.24\t hereJan15\tCPRX-600$\n",
      "SCHW-__\t ->5__\t107.54\t106.56\t105.61\t hereJan15\tSCHW-500$\n",
      "FNA-___\t ->17_\t107.52\t107.51\t93.59\t hereJan15\tFNA-800$\n",
      "CAG-___\t ->1__\t107.18\t107.18\t107.18\t hereJan15\tCAG-500$\n",
      "XYL-___\t ->1__\t106.90\t106.90\t106.90\t hereJan15\tXYL-500$\n",
      "FLO-___\t ->1__\t106.88\t106.88\t106.88\t hereJan15\tFLO-400$\n",
      "NEM-___\t ->9__\t106.81\t106.73\t102.45\t hereJan15\tNEM-500$\n",
      "TOL-___\t ->9__\t106.78\t107.75\t99.20\t hereJan15\tTOL-400$\n",
      "HIBB-__\t ->15_\t106.68\t107.49\t95.49\t hereJan15\tHIBB-600$\n",
      "CPB-___\t ->3__\t106.50\t106.92\t105.29\t hereJan15\tCPB-500$\n",
      "ALE-___\t ->5__\t106.44\t108.01\t102.34\t hereJan15\tALE-400$\n",
      "WRB-___\t ->3__\t106.43\t106.86\t105.10\t hereJan15\tWRB-500$\n",
      "AZTA-__\t ->26_\t106.37\t106.49\t94.06\t hereJan15\tAZTA-400$\n",
      "TT-____\t ->4__\t106.35\t106.44\t102.73\t hereJan15\tTT-500$\n",
      "REPL-__\t ->25_\t106.26\t107.38\t95.97\t hereJan15\tREPL-800$\n",
      "creating pdf now\n",
      "size= 14\n",
      "finished, created pdf docs\\pdf-export001.pdf\n",
      "created txt06.txt now\n",
      "creating word doc now\n",
      "saving word doc docs\\doc-export001.docx\n",
      "console 1a pagebreak\n",
      "console 1b --new page\n",
      "duplicates here= 1\n"
     ]
    },
    {
     "name": "stdin",
     "output_type": "stream",
     "text": [
      "repeat ? default=True >>   f\n"
     ]
    },
    {
     "name": "stdout",
     "output_type": "stream",
     "text": [
      "finished loop, continue= False\n"
     ]
    }
   ],
   "source": [
    "print(\"here\")\n",
    "JupyterLoop()\n"
   ]
  },
  {
   "cell_type": "code",
   "execution_count": 28,
   "id": "3b06ad1c-ff63-472e-a0ee-9c9e133887e1",
   "metadata": {},
   "outputs": [
    {
     "name": "stdout",
     "output_type": "stream",
     "text": [
      "print=testF 1\n"
     ]
    },
    {
     "data": {
      "text/plain": [
       "1"
      ]
     },
     "execution_count": 28,
     "metadata": {},
     "output_type": "execute_result"
    }
   ],
   "source": [
    "testF()"
   ]
  },
  {
   "cell_type": "code",
   "execution_count": 7,
   "id": "e3f2e7dd-0535-4597-954c-80f696b50d1c",
   "metadata": {},
   "outputs": [
    {
     "name": "stdout",
     "output_type": "stream",
     "text": [
      "next\n"
     ]
    }
   ],
   "source": [
    "df1=pd.read_csv(\"export001.csv\")\n",
    "print(\"next\")"
   ]
  },
  {
   "cell_type": "code",
   "execution_count": 41,
   "id": "b63c5ec7-7ab0-4e12-a5b8-3830fe2a5ed8",
   "metadata": {},
   "outputs": [
    {
     "name": "stdout",
     "output_type": "stream",
     "text": [
      "PENN\n",
      "PENN\n",
      "PENN\n"
     ]
    }
   ],
   "source": [
    "#ztools\n",
    "def cleancode(c):\n",
    "    i=c.find(\"-\")\n",
    "    return str(c[0:i])\n",
    "\n",
    "\n",
    "\n",
    "df2=df1.groupby(['Code'])['SR'].agg(['mean'])\n",
    "df2['fullcode']=df2.index\n",
    "df2['cleancode']=df2['fullcode'].apply(cleancode)\n",
    "for idx in df2.index:\n",
    "    print(df2.loc[idx,'cleancode'])\n",
    "                  "
   ]
  },
  {
   "cell_type": "code",
   "execution_count": 39,
   "id": "323297b0-9fb8-4d8e-98b7-4a29ba6c3240",
   "metadata": {},
   "outputs": [
    {
     "data": {
      "text/html": [
       "<div>\n",
       "<style scoped>\n",
       "    .dataframe tbody tr th:only-of-type {\n",
       "        vertical-align: middle;\n",
       "    }\n",
       "\n",
       "    .dataframe tbody tr th {\n",
       "        vertical-align: top;\n",
       "    }\n",
       "\n",
       "    .dataframe thead th {\n",
       "        text-align: right;\n",
       "    }\n",
       "</style>\n",
       "<table border=\"1\" class=\"dataframe\">\n",
       "  <thead>\n",
       "    <tr style=\"text-align: right;\">\n",
       "      <th></th>\n",
       "      <th>mean</th>\n",
       "      <th>fullcode</th>\n",
       "      <th>cleancode</th>\n",
       "    </tr>\n",
       "    <tr>\n",
       "      <th>Code</th>\n",
       "      <th></th>\n",
       "      <th></th>\n",
       "      <th></th>\n",
       "    </tr>\n",
       "  </thead>\n",
       "  <tbody>\n",
       "    <tr>\n",
       "      <th>PENN-400</th>\n",
       "      <td>102.992926</td>\n",
       "      <td>PENN-400</td>\n",
       "      <td>PENN</td>\n",
       "    </tr>\n",
       "    <tr>\n",
       "      <th>PENN-500</th>\n",
       "      <td>100.784743</td>\n",
       "      <td>PENN-500</td>\n",
       "      <td>PENN</td>\n",
       "    </tr>\n",
       "    <tr>\n",
       "      <th>PENN-700</th>\n",
       "      <td>104.298095</td>\n",
       "      <td>PENN-700</td>\n",
       "      <td>PENN</td>\n",
       "    </tr>\n",
       "  </tbody>\n",
       "</table>\n",
       "</div>"
      ],
      "text/plain": [
       "                mean  fullcode cleancode\n",
       "Code                                    \n",
       "PENN-400  102.992926  PENN-400      PENN\n",
       "PENN-500  100.784743  PENN-500      PENN\n",
       "PENN-700  104.298095  PENN-700      PENN"
      ]
     },
     "execution_count": 39,
     "metadata": {},
     "output_type": "execute_result"
    }
   ],
   "source": [
    "df2.head()"
   ]
  },
  {
   "cell_type": "markdown",
   "id": "55853fb1-166d-4aa2-aa51-c9ebfe37c57e",
   "metadata": {},
   "source": [
    "## summary "
   ]
  },
  {
   "cell_type": "code",
   "execution_count": null,
   "id": "048cd4eb-e410-42fe-96b2-287519d25ee4",
   "metadata": {},
   "outputs": [],
   "source": []
  },
  {
   "cell_type": "code",
   "execution_count": null,
   "id": "d9a3a6f8-85bb-4f94-a76f-d97728ed9a3a",
   "metadata": {},
   "outputs": [],
   "source": [
    "df_main.head(2)"
   ]
  },
  {
   "cell_type": "code",
   "execution_count": null,
   "id": "e89ae2de-1f1c-4aea-9369-2b570ff8edf2",
   "metadata": {},
   "outputs": [],
   "source": [
    "ax=df_main.plot(kind='scatter', x='HR1',y='SR',title='sometitle')\n",
    "print('done')"
   ]
  },
  {
   "cell_type": "code",
   "execution_count": null,
   "id": "c7f11fc8-512d-426f-9d57-e88fb2f19412",
   "metadata": {},
   "outputs": [],
   "source": [
    "help(doc)"
   ]
  },
  {
   "cell_type": "code",
   "execution_count": null,
   "id": "e61dff73-9fbe-4cbc-8737-6a578f25e28d",
   "metadata": {},
   "outputs": [],
   "source": [
    "help(rd)"
   ]
  },
  {
   "cell_type": "code",
   "execution_count": null,
   "id": "a29efc9c-0a9c-4ad7-bce6-9e563dafef5a",
   "metadata": {},
   "outputs": [],
   "source": [
    "filelocal=\"C:\\\\Users\\\\USER\\\\Desktop\\\\StratsEzy\\\\export\\\\export001.csv\"\n",
    "dftest=pd.read_csv(filelocal)\n",
    "dftest.head()"
   ]
  },
  {
   "cell_type": "code",
   "execution_count": null,
   "id": "c3d6d013-0e14-4a19-84d0-7b9aeba7bde0",
   "metadata": {},
   "outputs": [],
   "source": [
    "rep=getstr(\"enter something\",\"nothing entered\")\n",
    "print(rep)\n",
    "\n",
    "v=getnumber(\"some number now\",8)\n",
    "print(v)\n",
    "\n",
    "v=getint(\"some integer now\",2)\n",
    "print(v)\n",
    "\n",
    "v=getyesno(\"some boolean now\",False)\n",
    "print(v)\n",
    "\n",
    "\n",
    "\n",
    "\n"
   ]
  },
  {
   "cell_type": "code",
   "execution_count": 5,
   "id": "bcdd977a-19e7-4df7-9536-9ca44634590c",
   "metadata": {},
   "outputs": [
    {
     "name": "stdout",
     "output_type": "stream",
     "text": [
      "Help on package helloworldbasic5message:\n",
      "\n",
      "NAME\n",
      "    helloworldbasic5message\n",
      "\n",
      "DESCRIPTION\n",
      "    # import helloworldbasic5message as rd\n",
      "    # doc=rd.RainbowDocument()\n",
      "    #\n",
      "    #\n",
      "    # doc.insert_line(\"Introduction to RainbowDoc, with examples\")\n",
      "    # doc.insert_line(\"hello\", \"this is colorcat 0\", color_category=0)\n",
      "    # doc.insert_line(\"hello\", \"this is colorcat 1\", color_category=1)\n",
      "    # doc.insert_line(\"hello\", \"this is colorcat 2\", color_category=2)\n",
      "    # doc.insert_line(\"hello\", \"this is colorcat 3\", color_category=3)\n",
      "    # doc.insert_line(\"hello\", \"this is colorcat 4\", color_category=4)\n",
      "    # doc.insert_line(\"hello\", \"this is colorcat 5\", color_category=5)\n",
      "    # doc.insert_line(\"hello\", \"this is colorcat 6\", color_category=6, misc=202)\n",
      "    # doc.insert_line(\"hello\", \"this is colorcat 7\", color_category=7)\n",
      "    # doc.insert_line(\"hello\", \"colorcat 0 is the default colorcat\" )\n",
      "    #\n",
      "    # doc.linebreak() # for line breaks\n",
      "    #\n",
      "    #\n",
      "    # doc.insert_line(\"colors of color categories can be specified when\",\" you create a Word or PDF file\")\n",
      "    # doc.insert_line(\"otherwise default colors for color categories will be used\")\n",
      "    # doc.insert_line(\"See below, for more information on this\")\n",
      "    #\n",
      "    #\n",
      "    # doc.linebreak()\n",
      "    #\n",
      "    # doc.insert_line(\"muliple lines\\n\", \"in one line\")\n",
      "    #\n",
      "    # doc.insert_line(\"notice you can insert\", \"strings as many\", \"as you want\", \"even numbers\", 20, 103.2)\n",
      "    # doc.insert_line(\"this will NOT be printed to console\",\"but will still appear in doc\",print_console=False)\n",
      "    # doc.insert_line(\"for line breaks and page breaks\", \"see next 5 lines\")\n",
      "    # doc.insert_line(\"going to a new page\")\n",
      "    #\n",
      "    #\n",
      "    # doc.pagebreak() # for pagebreaks\n",
      "    #\n",
      "    # doc.insert_line(\"start of a new page, page 2\")\n",
      "    # doc.insert_line(\"lets say you want BOLD text\", font_bold=True)\n",
      "    # doc.insert_line(\"lets say you want italic BOLD text\", font_bold=True, font_italic=True)\n",
      "    # doc.insert_line(\"large italic BOLD text\", font_bold=True, font_italic=True, font_size=rd.FontSize.LARGE)\n",
      "    #\n",
      "    # doc.linebreak()\n",
      "    # doc.insert_line(\"available font_sizes: tiny, small, medium, large, XLarge, XXLarge\")\n",
      "    # doc.insert_line(\"tiny font\", font_size=rd.FontSize.TINY)\n",
      "    # doc.insert_line(\"small font\", font_size=rd.FontSize.SMALL)\n",
      "    # doc.insert_line(\"medium font\", font_size=rd.FontSize.MEDIUM)\n",
      "    # doc.insert_line(\"large font\", font_size=rd.FontSize.LARGE)\n",
      "    # doc.insert_line(\"XLarge font\", font_size=rd.FontSize.XLARGE)\n",
      "    # doc.insert_line(\"XXLarge font\", font_size=rd.FontSize.XXLARGE)\n",
      "    #\n",
      "    # doc.linebreak()\n",
      "    #\n",
      "    # doc.word_heading(\"Heading H2 in MSWORD only\", size=2)\n",
      "    #\n",
      "    # doc.word_listitem(\"This will appear as a list item 1, in MSWORD only\")\n",
      "    # doc.word_listitem(\"This will also appear as a list item 2, in MSWORD only\")\n",
      "    # doc.word_listitem(\"This will also appear as a list item 3, in MSWORD only\")\n",
      "    # doc.insert_line(\"normal text again\")\n",
      "    #\n",
      "    # doc.pagebreak()\n",
      "    #\n",
      "    # doc.insert_line(\"new page again, page 3\")\n",
      "    # doc.word_heading(\"Heading H3 in MSWORD only. valid values bw 0-4\", size=3)\n",
      "    #\n",
      "    #\n",
      "    # doc.insert_line(\"highlight 1=yellow in ms word\",msword_highlight=1)\n",
      "    # doc.insert_line(\"highlight 2=green in ms word\", msword_highlight=2)\n",
      "    # doc.insert_line(\"highlight 3 in ms word\", msword_highlight=3)\n",
      "    # doc.insert_line(\"highlight 4 in ms word\", msword_highlight=4)\n",
      "    #\n",
      "    #\n",
      "    # doc.insert_line(\"highlight true=Yellow in ms word\", msword_highlight=True)\n",
      "    # doc.insert_line(\"highlight false in ms word\", msword_highlight=False)\n",
      "    #\n",
      "    #\n",
      "    #\n",
      "    # doc.insert_line(\"end of examples\", \"hope it was helpful\")\n",
      "    #\n",
      "    # doc.createPDFFile(\"docs-testing\\\\some_pdffile.pdf\")\n",
      "    # doc.createWordFile(\"docs-testing\\\\some_wordfile.docx\")\n",
      "    # doc.createTextFile(\"docs-testing\\\\some_textfile.txt\")\n",
      "    #\n",
      "    #\n",
      "    # # uses default color cat colors black, red, green, blue, purple, gold, silver, orange\n",
      "    # doc.createPDFFile(filename=\"docs-testing\\\\pdf-test1.pdf\")\n",
      "    #\n",
      "    # # or specify personal color cat colors\n",
      "    # doc.createPDFFile(filename=\"docs-testing\\\\pdf-test2.pdf\", \\\n",
      "    #                   colorcatAuto=(3,37,126),\n",
      "    #                   colorcat7=rd.FontColor.BLUE)\n",
      "    #\n",
      "    #\n",
      "    # doc.createWordFile(filename=\"docs-testing\\\\word-test.docx\", \\\n",
      "    #                   colorcat2=(3,37,126) )\n",
      "    #\n",
      "    # doc.createTextFile(\"docs-testing\\\\text-file.txt\")\n",
      "    #\n",
      "    # doc.clear_lines() # reset, to start again\n",
      "    #\n",
      "    #\n",
      "    # print(\"done\")\n",
      "\n",
      "PACKAGE CONTENTS\n",
      "    _previousinit (package)\n",
      "    mymessage\n",
      "    prev__init__\n",
      "\n",
      "FILE\n",
      "    c:\\users\\user\\appdata\\local\\programs\\python\\python310\\lib\\site-packages\\helloworldbasic5message\\__init__.py\n",
      "\n",
      "\n"
     ]
    }
   ],
   "source": [
    "help(rd)"
   ]
  },
  {
   "cell_type": "code",
   "execution_count": null,
   "id": "3f953363-8076-4957-a9d8-bf6307c01a65",
   "metadata": {},
   "outputs": [],
   "source": []
  }
 ],
 "metadata": {
  "kernelspec": {
   "display_name": "Python 3 (ipykernel)",
   "language": "python",
   "name": "python3"
  },
  "language_info": {
   "codemirror_mode": {
    "name": "ipython",
    "version": 3
   },
   "file_extension": ".py",
   "mimetype": "text/x-python",
   "name": "python",
   "nbconvert_exporter": "python",
   "pygments_lexer": "ipython3",
   "version": "3.10.7"
  }
 },
 "nbformat": 4,
 "nbformat_minor": 5
}
